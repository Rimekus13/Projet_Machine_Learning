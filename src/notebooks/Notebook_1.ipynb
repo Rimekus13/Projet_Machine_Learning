{
 "cells": [
  {
   "cell_type": "markdown",
   "id": "a9deb2b2-23ea-4b51-9d0b-f799c8bc02bd",
   "metadata": {},
   "source": [
    "### Import"
   ]
  },
  {
   "cell_type": "code",
   "execution_count": 310,
   "id": "9c8767b7-6c20-4f45-a3c2-414fe3c8600f",
   "metadata": {},
   "outputs": [
    {
     "name": "stdout",
     "output_type": "stream",
     "text": [
      "The autoreload extension is already loaded. To reload it, use:\n",
      "  %reload_ext autoreload\n"
     ]
    }
   ],
   "source": [
    "%load_ext autoreload\n",
    "%autoreload 2\n",
    "import pandas as pd\n",
    "import seaborn as sns\n",
    "import matplotlib.pyplot as plt\n",
    "import numpy as np\n",
    "from sklearn.impute import KNNImputer\n",
    "\n",
    "import sys\n",
    "sys.path.append('../scripts')\n",
    "\n",
    "from preprocessing import clear_missing_data, delete_columnns_treshold, non_useful_columns, clear_missing_line, get_numerical, get_categorical, removal_of_duplicates\n",
    "from pretraitement import imputation_of_categorical_val, imputation_of_numerical_val, onehotencoder\n",
    "from training import determine_clusters, train_kmeans,predict_data"
   ]
  },
  {
   "cell_type": "markdown",
   "id": "5585e3c6",
   "metadata": {},
   "source": [
    "## Collecte de données"
   ]
  },
  {
   "cell_type": "markdown",
   "id": "1739419c-81cb-4a30-bab0-e465766396a7",
   "metadata": {},
   "source": [
    "### Chargement du dataset"
   ]
  },
  {
   "cell_type": "code",
   "execution_count": 311,
   "id": "e6b16d16-f1f9-4cfe-94bf-2d47c17469e5",
   "metadata": {},
   "outputs": [],
   "source": [
    "# Je charge le dataset en ne prenant que les 100 premières lignes afin de tester les fonctions\n",
    "path = \"../data/dataset.csv\" # Chemin du dataset \n",
    "df = pd.read_csv(path, nrows=1000, sep=',',encoding=\"utf-8\")"
   ]
  },
  {
   "cell_type": "code",
   "execution_count": 312,
   "id": "79261eee-e355-4882-b9f7-8527117555c2",
   "metadata": {},
   "outputs": [
    {
     "data": {
      "text/plain": [
       "(1000, 207)"
      ]
     },
     "execution_count": 312,
     "metadata": {},
     "output_type": "execute_result"
    }
   ],
   "source": [
    "df.shape"
   ]
  },
  {
   "cell_type": "markdown",
   "id": "25ad3318",
   "metadata": {},
   "source": [
    "### Préparation des données"
   ]
  },
  {
   "cell_type": "markdown",
   "id": "ab3fb51c",
   "metadata": {},
   "source": [
    "##### Nettoyage des colonnes"
   ]
  },
  {
   "cell_type": "code",
   "execution_count": 313,
   "id": "ea3bff2c",
   "metadata": {},
   "outputs": [
    {
     "name": "stdout",
     "output_type": "stream",
     "text": [
      "Nombre de colonnes vides (100% de valeurs manquantes) : 73\n"
     ]
    }
   ],
   "source": [
    "# Suppressions des colonnes avec 100% données manquantes\n",
    "df = clear_missing_data(df)"
   ]
  },
  {
   "cell_type": "code",
   "execution_count": 314,
   "id": "c62990b3",
   "metadata": {},
   "outputs": [
    {
     "name": "stdout",
     "output_type": "stream",
     "text": [
      "Les colonnes supprimées sont : Index(['starch_100g', 'omega-3-fat_100g',\n",
      "       'fruits-vegetables-nuts-estimate_100g', 'cocoa_100g', 'molybdenum_100g',\n",
      "       'chromium_100g', 'polyunsaturated-fat_100g', 'iodine_100g',\n",
      "       'added-sugars_100g', 'polyols_100g', 'vitamin-k_100g', 'selenium_100g',\n",
      "       'packaging_text', 'monounsaturated-fat_100g', 'caffeine_100g',\n",
      "       'manganese_100g', 'phosphorus_100g', 'biotin_100g',\n",
      "       'pantothenic-acid_100g', 'vitamin-b9_100g', 'copper_100g',\n",
      "       'vitamin-e_100g', 'vitamin-b12_100g', 'vitamin-pp_100g',\n",
      "       'vitamin-b2_100g', 'brand_owner', 'zinc_100g', 'vitamin-b1_100g',\n",
      "       'first_packaging_code_geo', 'cities_tags', 'vitamin-c_100g',\n",
      "       'vitamin-b6_100g', 'vitamin-a_100g', 'vitamin-d_100g', 'magnesium_100g',\n",
      "       'alcohol_100g', 'emb_codes_tags', 'emb_codes', 'generic_name',\n",
      "       'iron_100g', 'trans-fat_100g', 'calcium_100g', 'cholesterol_100g',\n",
      "       'potassium_100g', 'traces', 'traces_tags', 'traces_en', 'allergens',\n",
      "       'manufacturing_places', 'manufacturing_places_tags',\n",
      "       'no_nutrition_data', 'purchase_places', 'origins_en', 'origins_tags',\n",
      "       'origins', 'stores', 'data_quality_errors_tags', 'energy-kj_100g',\n",
      "       'environmental_score_score', 'additives_en', 'additives_tags',\n",
      "       'packaging_tags', 'packaging', 'packaging_en', 'nutriscore_score',\n",
      "       'nutrition-score-fr_100g', 'owner', 'nova_group', 'food_groups_tags',\n",
      "       'food_groups_en', 'food_groups', 'nutrient_levels_tags',\n",
      "       'image_ingredients_url', 'image_ingredients_small_url'],\n",
      "      dtype='object')\n"
     ]
    }
   ],
   "source": [
    "# Suppressions des colonnes avec 70% données manquantes\n",
    "df = delete_columnns_treshold(df)"
   ]
  },
  {
   "cell_type": "code",
   "execution_count": 315,
   "id": "ff720416",
   "metadata": {},
   "outputs": [
    {
     "name": "stdout",
     "output_type": "stream",
     "text": [
      "Les colonnes supprimées sont : ['Unnamed: 0', 'url', 'created_t', 'created_datetime', 'last_modified_t', 'last_modified_datetime', 'last_modified_by', 'last_updated_t', 'brands_tags', 'last_updated_datetime', 'countries_tags', 'countries_en', 'states_tags', 'states_en', 'image_url', 'image_small_url', 'image_nutrition_url', 'image_nutrition_small_url']\n"
     ]
    }
   ],
   "source": [
    "# Suppressions des colonnes non pertinentes\n",
    "df = non_useful_columns(df)\n",
    "\n"
   ]
  },
  {
   "cell_type": "markdown",
   "id": "762a9c87",
   "metadata": {},
   "source": [
    "##### Nettoyage des lignes"
   ]
  },
  {
   "cell_type": "code",
   "execution_count": 316,
   "id": "f1754171",
   "metadata": {},
   "outputs": [
    {
     "name": "stdout",
     "output_type": "stream",
     "text": [
      "Nombre de lignes vides (100% de valeurs manquantes) : 0\n"
     ]
    }
   ],
   "source": [
    "# Suppressions des lignes vides\n",
    "\n",
    "df = clear_missing_line(df)"
   ]
  },
  {
   "cell_type": "markdown",
   "id": "4f375273",
   "metadata": {},
   "source": [
    "#### Supression des doublons"
   ]
  },
  {
   "cell_type": "code",
   "execution_count": 317,
   "id": "c1d2c60c",
   "metadata": {},
   "outputs": [],
   "source": [
    "# Netoyage des doublons\n",
    "df = removal_of_duplicates(df)"
   ]
  },
  {
   "cell_type": "markdown",
   "id": "285bbadc",
   "metadata": {},
   "source": [
    "### Imputation des données"
   ]
  },
  {
   "cell_type": "code",
   "execution_count": 318,
   "id": "af8afafa",
   "metadata": {},
   "outputs": [],
   "source": [
    "df_num = df.select_dtypes(include=['number'])  # Garder uniquement les colonnes numériques\n",
    "df_cat = df.select_dtypes(exclude=['number'])  # Garder uniquement les colonnes catégorielles\n",
    "\n"
   ]
  },
  {
   "cell_type": "code",
   "execution_count": 319,
   "id": "feebf080",
   "metadata": {},
   "outputs": [],
   "source": [
    "# Imputation des valeurs manquantes pour les colonnes numériques\n",
    "df_num = imputation_of_numerical_val(df_num)"
   ]
  },
  {
   "cell_type": "code",
   "execution_count": 320,
   "id": "67db215d",
   "metadata": {},
   "outputs": [],
   "source": [
    "# Imputation des valeurs manquantes pour les colonnes catégorielles\n",
    "df_cat = imputation_of_categorical_val(df_cat)"
   ]
  },
  {
   "cell_type": "code",
   "execution_count": 321,
   "id": "ae34ec49",
   "metadata": {},
   "outputs": [],
   "source": [
    "# Assurer que df_num et df_cat ont les mêmes index que df\n",
    "df[df_num.columns] = df_num\n",
    "df[df_cat.columns] = df_cat\n"
   ]
  },
  {
   "cell_type": "code",
   "execution_count": 322,
   "id": "23bef022",
   "metadata": {},
   "outputs": [
    {
     "data": {
      "text/html": [
       "<div>\n",
       "<style scoped>\n",
       "    .dataframe tbody tr th:only-of-type {\n",
       "        vertical-align: middle;\n",
       "    }\n",
       "\n",
       "    .dataframe tbody tr th {\n",
       "        vertical-align: top;\n",
       "    }\n",
       "\n",
       "    .dataframe thead th {\n",
       "        text-align: right;\n",
       "    }\n",
       "</style>\n",
       "<table border=\"1\" class=\"dataframe\">\n",
       "  <thead>\n",
       "    <tr style=\"text-align: right;\">\n",
       "      <th></th>\n",
       "      <th>code</th>\n",
       "      <th>creator</th>\n",
       "      <th>product_name</th>\n",
       "      <th>quantity</th>\n",
       "      <th>brands</th>\n",
       "      <th>categories</th>\n",
       "      <th>categories_tags</th>\n",
       "      <th>categories_en</th>\n",
       "      <th>labels</th>\n",
       "      <th>labels_tags</th>\n",
       "      <th>...</th>\n",
       "      <th>energy_100g</th>\n",
       "      <th>fat_100g</th>\n",
       "      <th>saturated-fat_100g</th>\n",
       "      <th>carbohydrates_100g</th>\n",
       "      <th>sugars_100g</th>\n",
       "      <th>fiber_100g</th>\n",
       "      <th>proteins_100g</th>\n",
       "      <th>salt_100g</th>\n",
       "      <th>sodium_100g</th>\n",
       "      <th>fruits-vegetables-nuts-estimate-from-ingredients_100g</th>\n",
       "    </tr>\n",
       "  </thead>\n",
       "  <tbody>\n",
       "    <tr>\n",
       "      <th>0</th>\n",
       "      <td>54</td>\n",
       "      <td>kiliweb</td>\n",
       "      <td>Limonade artisanale a la rose</td>\n",
       "      <td>700ml</td>\n",
       "      <td>Phillips Gourmet</td>\n",
       "      <td>Beverages</td>\n",
       "      <td>en:beverages-and-beverages-preparations,en:bev...</td>\n",
       "      <td>Beverages and beverages preparations,Beverages</td>\n",
       "      <td>No GMOs, Non GMO project</td>\n",
       "      <td>en:no-gmos,en:non-gmo-project</td>\n",
       "      <td>...</td>\n",
       "      <td>700.0</td>\n",
       "      <td>7.517876</td>\n",
       "      <td>2.578927</td>\n",
       "      <td>12.193853</td>\n",
       "      <td>5.311864</td>\n",
       "      <td>3.013989</td>\n",
       "      <td>13.904904</td>\n",
       "      <td>0.989011</td>\n",
       "      <td>0.395605</td>\n",
       "      <td>19.166958</td>\n",
       "    </tr>\n",
       "    <tr>\n",
       "      <th>1</th>\n",
       "      <td>63</td>\n",
       "      <td>kiliweb</td>\n",
       "      <td>Tablette Tanzanie</td>\n",
       "      <td>700ml</td>\n",
       "      <td>Phillips Gourmet</td>\n",
       "      <td>Beverages</td>\n",
       "      <td>en:beverages-and-beverages-preparations,en:bev...</td>\n",
       "      <td>Beverages and beverages preparations,Beverages</td>\n",
       "      <td>No GMOs, Non GMO project</td>\n",
       "      <td>en:no-gmos,en:non-gmo-project</td>\n",
       "      <td>...</td>\n",
       "      <td>700.0</td>\n",
       "      <td>7.517876</td>\n",
       "      <td>2.578927</td>\n",
       "      <td>12.193853</td>\n",
       "      <td>5.311864</td>\n",
       "      <td>3.013989</td>\n",
       "      <td>13.904904</td>\n",
       "      <td>0.780011</td>\n",
       "      <td>0.312005</td>\n",
       "      <td>0.000000</td>\n",
       "    </tr>\n",
       "    <tr>\n",
       "      <th>2</th>\n",
       "      <td>114</td>\n",
       "      <td>kiliweb</td>\n",
       "      <td>Chocolate n 3</td>\n",
       "      <td>80 g</td>\n",
       "      <td>Jeff de Bruges</td>\n",
       "      <td>Beverages</td>\n",
       "      <td>en:beverages-and-beverages-preparations,en:bev...</td>\n",
       "      <td>Beverages and beverages preparations,Beverages</td>\n",
       "      <td>Point Vert, Fabriqué en France</td>\n",
       "      <td>en:green-dot,en:made-in-france</td>\n",
       "      <td>...</td>\n",
       "      <td>2415.0</td>\n",
       "      <td>44.000000</td>\n",
       "      <td>28.000000</td>\n",
       "      <td>30.000000</td>\n",
       "      <td>27.000000</td>\n",
       "      <td>10.292500</td>\n",
       "      <td>7.100000</td>\n",
       "      <td>0.025000</td>\n",
       "      <td>0.010000</td>\n",
       "      <td>19.166667</td>\n",
       "    </tr>\n",
       "    <tr>\n",
       "      <th>3</th>\n",
       "      <td>1</td>\n",
       "      <td>inf</td>\n",
       "      <td>KOJI MISO PASTE</td>\n",
       "      <td>300g</td>\n",
       "      <td>UMAMI</td>\n",
       "      <td>Supplements, Vegtable</td>\n",
       "      <td>en:supplements,en:vegtable</td>\n",
       "      <td>Supplements,Vegtable</td>\n",
       "      <td>No gluten, Vegetarian, No artificial flavors, ...</td>\n",
       "      <td>en:no-gluten,en:organic,en:vegetarian,en:eu-or...</td>\n",
       "      <td>...</td>\n",
       "      <td>874.0</td>\n",
       "      <td>6.000000</td>\n",
       "      <td>1.000000</td>\n",
       "      <td>21.400000</td>\n",
       "      <td>11.100000</td>\n",
       "      <td>2.000000</td>\n",
       "      <td>11.200000</td>\n",
       "      <td>11.800000</td>\n",
       "      <td>4.720000</td>\n",
       "      <td>100.000000</td>\n",
       "    </tr>\n",
       "    <tr>\n",
       "      <th>4</th>\n",
       "      <td>105</td>\n",
       "      <td>kiliweb</td>\n",
       "      <td>Paleta gran reserva - Sierra nevada-</td>\n",
       "      <td>750ml</td>\n",
       "      <td>AdvoCare</td>\n",
       "      <td>Beverages</td>\n",
       "      <td>en:beverages-and-beverages-preparations,en:bev...</td>\n",
       "      <td>Beverages and beverages preparations,Beverages</td>\n",
       "      <td>No GMOs, Non GMO project</td>\n",
       "      <td>en:no-gmos,en:non-gmo-project</td>\n",
       "      <td>...</td>\n",
       "      <td>1238.0</td>\n",
       "      <td>7.165876</td>\n",
       "      <td>2.468927</td>\n",
       "      <td>11.957853</td>\n",
       "      <td>2.831864</td>\n",
       "      <td>5.085989</td>\n",
       "      <td>27.600904</td>\n",
       "      <td>1.063011</td>\n",
       "      <td>0.425205</td>\n",
       "      <td>0.011335</td>\n",
       "    </tr>\n",
       "    <tr>\n",
       "      <th>...</th>\n",
       "      <td>...</td>\n",
       "      <td>...</td>\n",
       "      <td>...</td>\n",
       "      <td>...</td>\n",
       "      <td>...</td>\n",
       "      <td>...</td>\n",
       "      <td>...</td>\n",
       "      <td>...</td>\n",
       "      <td>...</td>\n",
       "      <td>...</td>\n",
       "      <td>...</td>\n",
       "      <td>...</td>\n",
       "      <td>...</td>\n",
       "      <td>...</td>\n",
       "      <td>...</td>\n",
       "      <td>...</td>\n",
       "      <td>...</td>\n",
       "      <td>...</td>\n",
       "      <td>...</td>\n",
       "      <td>...</td>\n",
       "      <td>...</td>\n",
       "    </tr>\n",
       "    <tr>\n",
       "      <th>995</th>\n",
       "      <td>105000066</td>\n",
       "      <td>kiliweb</td>\n",
       "      <td>Herbal Tea Cinnamon</td>\n",
       "      <td>700ml</td>\n",
       "      <td>Phillips Gourmet</td>\n",
       "      <td>Plant-based foods and beverages, Beverages, Ho...</td>\n",
       "      <td>en:plant-based-foods-and-beverages,en:beverage...</td>\n",
       "      <td>Plant-based foods and beverages,Beverages,Hot ...</td>\n",
       "      <td>No GMOs, Non GMO project</td>\n",
       "      <td>en:no-gmos,en:non-gmo-project</td>\n",
       "      <td>...</td>\n",
       "      <td>0.0</td>\n",
       "      <td>0.000000</td>\n",
       "      <td>0.000000</td>\n",
       "      <td>60.000000</td>\n",
       "      <td>0.000000</td>\n",
       "      <td>0.000000</td>\n",
       "      <td>0.000000</td>\n",
       "      <td>1.000000</td>\n",
       "      <td>0.400000</td>\n",
       "      <td>0.000000</td>\n",
       "    </tr>\n",
       "    <tr>\n",
       "      <th>996</th>\n",
       "      <td>105000073</td>\n",
       "      <td>usda-ndb-import</td>\n",
       "      <td>Herbal Tea, Hibiscus</td>\n",
       "      <td>700ml</td>\n",
       "      <td>Lagg's</td>\n",
       "      <td>Beverages</td>\n",
       "      <td>en:beverages-and-beverages-preparations,en:bev...</td>\n",
       "      <td>Beverages and beverages preparations,Beverages</td>\n",
       "      <td>No GMOs, Non GMO project</td>\n",
       "      <td>en:no-gmos,en:non-gmo-project</td>\n",
       "      <td>...</td>\n",
       "      <td>1117.0</td>\n",
       "      <td>0.000000</td>\n",
       "      <td>2.918000</td>\n",
       "      <td>60.000000</td>\n",
       "      <td>4.066667</td>\n",
       "      <td>5.573333</td>\n",
       "      <td>66.670000</td>\n",
       "      <td>0.337820</td>\n",
       "      <td>0.135128</td>\n",
       "      <td>0.000000</td>\n",
       "    </tr>\n",
       "    <tr>\n",
       "      <th>997</th>\n",
       "      <td>105000196</td>\n",
       "      <td>usda-ndb-import</td>\n",
       "      <td>Apple &amp; Cinnamon Tea</td>\n",
       "      <td>700ml</td>\n",
       "      <td>Lagg's</td>\n",
       "      <td>Plant-based foods and beverages, Beverages, Ho...</td>\n",
       "      <td>en:plant-based-foods-and-beverages,en:beverage...</td>\n",
       "      <td>Plant-based foods and beverages,Beverages,Hot ...</td>\n",
       "      <td>No GMOs, Non GMO project</td>\n",
       "      <td>en:no-gmos,en:non-gmo-project</td>\n",
       "      <td>...</td>\n",
       "      <td>0.0</td>\n",
       "      <td>0.000000</td>\n",
       "      <td>2.918000</td>\n",
       "      <td>60.000000</td>\n",
       "      <td>4.066667</td>\n",
       "      <td>5.573333</td>\n",
       "      <td>66.670000</td>\n",
       "      <td>0.337820</td>\n",
       "      <td>0.135128</td>\n",
       "      <td>0.000000</td>\n",
       "    </tr>\n",
       "    <tr>\n",
       "      <th>998</th>\n",
       "      <td>105000219</td>\n",
       "      <td>usda-ndb-import</td>\n",
       "      <td>Lagg's, green tea</td>\n",
       "      <td>700ml</td>\n",
       "      <td>Lagg's</td>\n",
       "      <td>Plant-based foods and beverages, Beverages, Ho...</td>\n",
       "      <td>en:plant-based-foods-and-beverages,en:beverage...</td>\n",
       "      <td>Plant-based foods and beverages,Beverages,Hot ...</td>\n",
       "      <td>No GMOs, Non GMO project</td>\n",
       "      <td>en:no-gmos,en:non-gmo-project</td>\n",
       "      <td>...</td>\n",
       "      <td>0.0</td>\n",
       "      <td>0.000000</td>\n",
       "      <td>2.918000</td>\n",
       "      <td>2.670000</td>\n",
       "      <td>4.066667</td>\n",
       "      <td>5.573333</td>\n",
       "      <td>0.000000</td>\n",
       "      <td>0.000000</td>\n",
       "      <td>0.000000</td>\n",
       "      <td>0.000000</td>\n",
       "    </tr>\n",
       "    <tr>\n",
       "      <th>999</th>\n",
       "      <td>105000318</td>\n",
       "      <td>usda-ndb-import</td>\n",
       "      <td>Lagg's, shave grass herbal tea</td>\n",
       "      <td>700ml</td>\n",
       "      <td>Lagg's</td>\n",
       "      <td>Plant-based foods and beverages, Beverages, Ho...</td>\n",
       "      <td>en:plant-based-foods-and-beverages,en:beverage...</td>\n",
       "      <td>Plant-based foods and beverages,Beverages,Hot ...</td>\n",
       "      <td>No GMOs, Non GMO project</td>\n",
       "      <td>en:no-gmos,en:non-gmo-project</td>\n",
       "      <td>...</td>\n",
       "      <td>0.0</td>\n",
       "      <td>0.000000</td>\n",
       "      <td>2.918000</td>\n",
       "      <td>3.330000</td>\n",
       "      <td>4.066667</td>\n",
       "      <td>5.573333</td>\n",
       "      <td>0.000000</td>\n",
       "      <td>0.000000</td>\n",
       "      <td>0.000000</td>\n",
       "      <td>0.000000</td>\n",
       "    </tr>\n",
       "  </tbody>\n",
       "</table>\n",
       "<p>1000 rows × 42 columns</p>\n",
       "</div>"
      ],
      "text/plain": [
       "          code          creator                          product_name  \\\n",
       "0           54          kiliweb         Limonade artisanale a la rose   \n",
       "1           63          kiliweb                     Tablette Tanzanie   \n",
       "2          114          kiliweb                         Chocolate n 3   \n",
       "3            1              inf                       KOJI MISO PASTE   \n",
       "4          105          kiliweb  Paleta gran reserva - Sierra nevada-   \n",
       "..         ...              ...                                   ...   \n",
       "995  105000066          kiliweb                   Herbal Tea Cinnamon   \n",
       "996  105000073  usda-ndb-import                  Herbal Tea, Hibiscus   \n",
       "997  105000196  usda-ndb-import                  Apple & Cinnamon Tea   \n",
       "998  105000219  usda-ndb-import                     Lagg's, green tea   \n",
       "999  105000318  usda-ndb-import        Lagg's, shave grass herbal tea   \n",
       "\n",
       "    quantity            brands  \\\n",
       "0      700ml  Phillips Gourmet   \n",
       "1      700ml  Phillips Gourmet   \n",
       "2       80 g    Jeff de Bruges   \n",
       "3       300g             UMAMI   \n",
       "4      750ml          AdvoCare   \n",
       "..       ...               ...   \n",
       "995    700ml  Phillips Gourmet   \n",
       "996    700ml            Lagg's   \n",
       "997    700ml            Lagg's   \n",
       "998    700ml            Lagg's   \n",
       "999    700ml            Lagg's   \n",
       "\n",
       "                                            categories  \\\n",
       "0                                            Beverages   \n",
       "1                                            Beverages   \n",
       "2                                            Beverages   \n",
       "3                                Supplements, Vegtable   \n",
       "4                                            Beverages   \n",
       "..                                                 ...   \n",
       "995  Plant-based foods and beverages, Beverages, Ho...   \n",
       "996                                          Beverages   \n",
       "997  Plant-based foods and beverages, Beverages, Ho...   \n",
       "998  Plant-based foods and beverages, Beverages, Ho...   \n",
       "999  Plant-based foods and beverages, Beverages, Ho...   \n",
       "\n",
       "                                       categories_tags  \\\n",
       "0    en:beverages-and-beverages-preparations,en:bev...   \n",
       "1    en:beverages-and-beverages-preparations,en:bev...   \n",
       "2    en:beverages-and-beverages-preparations,en:bev...   \n",
       "3                           en:supplements,en:vegtable   \n",
       "4    en:beverages-and-beverages-preparations,en:bev...   \n",
       "..                                                 ...   \n",
       "995  en:plant-based-foods-and-beverages,en:beverage...   \n",
       "996  en:beverages-and-beverages-preparations,en:bev...   \n",
       "997  en:plant-based-foods-and-beverages,en:beverage...   \n",
       "998  en:plant-based-foods-and-beverages,en:beverage...   \n",
       "999  en:plant-based-foods-and-beverages,en:beverage...   \n",
       "\n",
       "                                         categories_en  \\\n",
       "0       Beverages and beverages preparations,Beverages   \n",
       "1       Beverages and beverages preparations,Beverages   \n",
       "2       Beverages and beverages preparations,Beverages   \n",
       "3                                 Supplements,Vegtable   \n",
       "4       Beverages and beverages preparations,Beverages   \n",
       "..                                                 ...   \n",
       "995  Plant-based foods and beverages,Beverages,Hot ...   \n",
       "996     Beverages and beverages preparations,Beverages   \n",
       "997  Plant-based foods and beverages,Beverages,Hot ...   \n",
       "998  Plant-based foods and beverages,Beverages,Hot ...   \n",
       "999  Plant-based foods and beverages,Beverages,Hot ...   \n",
       "\n",
       "                                                labels  \\\n",
       "0                             No GMOs, Non GMO project   \n",
       "1                             No GMOs, Non GMO project   \n",
       "2                       Point Vert, Fabriqué en France   \n",
       "3    No gluten, Vegetarian, No artificial flavors, ...   \n",
       "4                             No GMOs, Non GMO project   \n",
       "..                                                 ...   \n",
       "995                           No GMOs, Non GMO project   \n",
       "996                           No GMOs, Non GMO project   \n",
       "997                           No GMOs, Non GMO project   \n",
       "998                           No GMOs, Non GMO project   \n",
       "999                           No GMOs, Non GMO project   \n",
       "\n",
       "                                           labels_tags  ... energy_100g  \\\n",
       "0                        en:no-gmos,en:non-gmo-project  ...       700.0   \n",
       "1                        en:no-gmos,en:non-gmo-project  ...       700.0   \n",
       "2                       en:green-dot,en:made-in-france  ...      2415.0   \n",
       "3    en:no-gluten,en:organic,en:vegetarian,en:eu-or...  ...       874.0   \n",
       "4                        en:no-gmos,en:non-gmo-project  ...      1238.0   \n",
       "..                                                 ...  ...         ...   \n",
       "995                      en:no-gmos,en:non-gmo-project  ...         0.0   \n",
       "996                      en:no-gmos,en:non-gmo-project  ...      1117.0   \n",
       "997                      en:no-gmos,en:non-gmo-project  ...         0.0   \n",
       "998                      en:no-gmos,en:non-gmo-project  ...         0.0   \n",
       "999                      en:no-gmos,en:non-gmo-project  ...         0.0   \n",
       "\n",
       "      fat_100g saturated-fat_100g carbohydrates_100g sugars_100g fiber_100g  \\\n",
       "0     7.517876           2.578927          12.193853    5.311864   3.013989   \n",
       "1     7.517876           2.578927          12.193853    5.311864   3.013989   \n",
       "2    44.000000          28.000000          30.000000   27.000000  10.292500   \n",
       "3     6.000000           1.000000          21.400000   11.100000   2.000000   \n",
       "4     7.165876           2.468927          11.957853    2.831864   5.085989   \n",
       "..         ...                ...                ...         ...        ...   \n",
       "995   0.000000           0.000000          60.000000    0.000000   0.000000   \n",
       "996   0.000000           2.918000          60.000000    4.066667   5.573333   \n",
       "997   0.000000           2.918000          60.000000    4.066667   5.573333   \n",
       "998   0.000000           2.918000           2.670000    4.066667   5.573333   \n",
       "999   0.000000           2.918000           3.330000    4.066667   5.573333   \n",
       "\n",
       "     proteins_100g  salt_100g sodium_100g  \\\n",
       "0        13.904904   0.989011    0.395605   \n",
       "1        13.904904   0.780011    0.312005   \n",
       "2         7.100000   0.025000    0.010000   \n",
       "3        11.200000  11.800000    4.720000   \n",
       "4        27.600904   1.063011    0.425205   \n",
       "..             ...        ...         ...   \n",
       "995       0.000000   1.000000    0.400000   \n",
       "996      66.670000   0.337820    0.135128   \n",
       "997      66.670000   0.337820    0.135128   \n",
       "998       0.000000   0.000000    0.000000   \n",
       "999       0.000000   0.000000    0.000000   \n",
       "\n",
       "    fruits-vegetables-nuts-estimate-from-ingredients_100g  \n",
       "0                                            19.166958     \n",
       "1                                             0.000000     \n",
       "2                                            19.166667     \n",
       "3                                           100.000000     \n",
       "4                                             0.011335     \n",
       "..                                                 ...     \n",
       "995                                           0.000000     \n",
       "996                                           0.000000     \n",
       "997                                           0.000000     \n",
       "998                                           0.000000     \n",
       "999                                           0.000000     \n",
       "\n",
       "[1000 rows x 42 columns]"
      ]
     },
     "execution_count": 322,
     "metadata": {},
     "output_type": "execute_result"
    }
   ],
   "source": [
    "df"
   ]
  },
  {
   "cell_type": "markdown",
   "id": "fcb30448",
   "metadata": {},
   "source": [
    "### Pretraitement"
   ]
  },
  {
   "cell_type": "code",
   "execution_count": 323,
   "id": "16864f21",
   "metadata": {},
   "outputs": [],
   "source": [
    "df = onehotencoder(df)"
   ]
  },
  {
   "cell_type": "markdown",
   "id": "a209fe2c",
   "metadata": {},
   "source": [
    "### Entrainement "
   ]
  },
  {
   "cell_type": "code",
   "execution_count": 324,
   "id": "dda4d62b",
   "metadata": {},
   "outputs": [
    {
     "data": {
      "image/png": "[encoded data removed]",
      "text/plain": [
       "<Figure size 640x480 with 1 Axes>"
      ]
     },
     "metadata": {},
     "output_type": "display_data"
    },
    {
     "data": {
      "text/plain": [
       "<module 'matplotlib.pyplot' from 'd:\\\\Logiciel\\\\conda\\\\envs\\\\clustering_OFF\\\\Lib\\\\site-packages\\\\matplotlib\\\\pyplot.py'>"
      ]
     },
     "execution_count": 324,
     "metadata": {},
     "output_type": "execute_result"
    }
   ],
   "source": [
    "# Normalisation des données (important pour K-Means)\n",
    "from sklearn.discriminant_analysis import StandardScaler\n",
    "\n",
    "\n",
    "\n",
    "# Normaliser les colonnes numériques uniquement\n",
    "scaler = StandardScaler()\n",
    "df_num_scaled = pd.DataFrame(scaler.fit_transform(df_num), columns=df_num.columns)\n",
    "\n",
    "# Réassembler les données (optionnel : si besoin de garder les catégories)\n",
    "df_scaled = pd.concat([df_num_scaled, df_cat], axis=1)\n",
    "\n",
    "# Étape 1 : Trouver le bon nombre de clusters\n",
    "determine_clusters(df_num_scaled)\n",
    "\n"
   ]
  },
  {
   "cell_type": "code",
   "execution_count": null,
   "id": "7df1f67c",
   "metadata": {},
   "outputs": [],
   "source": [
    "# Étape 2 : Entraîner le modèle avec un nombre de clusters optimal (ex: 4)\n",
    "model = train_kmeans(df_num, nb_clusters=6)"
   ]
  },
  {
   "cell_type": "code",
   "execution_count": 326,
   "id": "652d4727",
   "metadata": {},
   "outputs": [],
   "source": [
    "predictions = predict_data(model, df_num)\n",
    "\n"
   ]
  },
  {
   "cell_type": "code",
   "execution_count": 327,
   "id": "13aa3d40",
   "metadata": {},
   "outputs": [
    {
     "name": "stdout",
     "output_type": "stream",
     "text": [
      "   code  serving_quantity  additives_n  product_quantity  unique_scans_n  \\\n",
      "0    54             120.6          2.2             308.0             1.4   \n",
      "1    63             122.2          0.0             427.8             1.0   \n",
      "2   114              41.6          2.8              80.0             1.0   \n",
      "3     1               0.0          0.0             300.0             1.0   \n",
      "4   105               5.0          2.0             750.0             1.0   \n",
      "\n",
      "   completeness  last_image_t  energy-kcal_100g  energy_100g   fat_100g  \\\n",
      "0        0.1625  1.733085e+09         167.29876        700.0   7.517876   \n",
      "1        0.2625  1.732913e+09         167.29876        700.0   7.517876   \n",
      "2        0.4750  1.737248e+09         581.60000       2415.0  44.000000   \n",
      "3        0.8625  1.738677e+09         209.00000        874.0   6.000000   \n",
      "4        0.6750  1.738074e+09         295.85876       1238.0   7.165876   \n",
      "\n",
      "   saturated-fat_100g  carbohydrates_100g  sugars_100g  fiber_100g  \\\n",
      "0            2.578927           12.193853     5.311864    3.013989   \n",
      "1            2.578927           12.193853     5.311864    3.013989   \n",
      "2           28.000000           30.000000    27.000000   10.292500   \n",
      "3            1.000000           21.400000    11.100000    2.000000   \n",
      "4            2.468927           11.957853     2.831864    5.085989   \n",
      "\n",
      "   proteins_100g  salt_100g  sodium_100g  \\\n",
      "0      13.904904   0.989011     0.395605   \n",
      "1      13.904904   0.780011     0.312005   \n",
      "2       7.100000   0.025000     0.010000   \n",
      "3      11.200000  11.800000     4.720000   \n",
      "4      27.600904   1.063011     0.425205   \n",
      "\n",
      "   fruits-vegetables-nuts-estimate-from-ingredients_100g  Cluster  \n",
      "0                                          19.166958            6  \n",
      "1                                           0.000000            6  \n",
      "2                                          19.166667            6  \n",
      "3                                         100.000000            6  \n",
      "4                                           0.011335            6  \n"
     ]
    }
   ],
   "source": [
    "import pandas as pd\n",
    "\n",
    "# Ajouter les prédictions au DataFrame\n",
    "df_num['Cluster'] = predictions\n",
    "\n",
    "# Afficher les premières lignes du DataFrame avec les clusters\n",
    "print(df_num.head())\n"
   ]
  },
  {
   "cell_type": "code",
   "execution_count": 328,
   "id": "b3801814",
   "metadata": {},
   "outputs": [
    {
     "data": {
      "image/png": "[encoded data removed]",
      "text/plain": [
       "<Figure size 1000x600 with 2 Axes>"
      ]
     },
     "metadata": {},
     "output_type": "display_data"
    }
   ],
   "source": [
    "import matplotlib.pyplot as plt\n",
    "from sklearn.decomposition import PCA\n",
    "\n",
    "# Réduire les dimensions à 2 pour la visualisation\n",
    "pca = PCA(n_components=2)\n",
    "df_pca = pca.fit_transform(df_num.drop(columns=['Cluster']))\n",
    "\n",
    "# Visualiser les clusters\n",
    "plt.figure(figsize=(10, 6))\n",
    "plt.scatter(df_pca[:, 0], df_pca[:, 1], c=predictions, cmap='viridis', alpha=0.6, edgecolors='w', s=50)\n",
    "plt.xlabel('PCA Component 1')\n",
    "plt.ylabel('PCA Component 2')\n",
    "plt.title('Visualisation des clusters')\n",
    "plt.colorbar(label='Cluster')\n",
    "plt.show()\n"
   ]
  },
  {
   "cell_type": "code",
   "execution_count": 329,
   "id": "16273245",
   "metadata": {},
   "outputs": [
    {
     "name": "stdout",
     "output_type": "stream",
     "text": [
      "Taille des clusters :\n",
      "Cluster\n",
      "6    225\n",
      "1    179\n",
      "8    143\n",
      "2     99\n",
      "4     94\n",
      "5     83\n",
      "7     76\n",
      "3     58\n",
      "0     43\n",
      "Name: count, dtype: int64\n",
      "Statistiques descriptives par cluster :\n",
      "                 code  serving_quantity  additives_n  product_quantity  \\\n",
      "Cluster                                                                  \n",
      "0        1.022541e+08         18.401172     0.134884        249.018605   \n",
      "1        1.004975e+08        149.552623     0.271508        336.143017   \n",
      "2        4.597071e+02         69.887935     1.993939        483.490348   \n",
      "3        1.021475e+08         24.698366     0.100000        293.172414   \n",
      "4        4.810957e+02         60.499213     1.897872        744.511616   \n",
      "5        5.122169e+02         69.998024     2.171084        326.879518   \n",
      "6        3.653156e+02         56.175600     2.056000        482.633916   \n",
      "7        6.027895e+02         63.804868     1.913158        299.819132   \n",
      "8        4.689930e+02         80.097273     2.158042        438.865483   \n",
      "\n",
      "         unique_scans_n  completeness  last_image_t  energy-kcal_100g  \\\n",
      "Cluster                                                                 \n",
      "0              1.106977      0.333140  1.581152e+09        337.925980   \n",
      "1              1.000000      0.225698  1.629625e+09        353.766952   \n",
      "2              1.264646      0.322980  1.679613e+09        522.233808   \n",
      "3              1.041379      0.306681  1.705385e+09        322.664631   \n",
      "4              1.189362      0.363165  1.645160e+09        264.901697   \n",
      "5              1.465060      0.412651  1.560513e+09        255.676759   \n",
      "6              1.249778      0.494667  1.732485e+09        261.223354   \n",
      "7              1.302632      0.381086  1.610738e+09        259.252259   \n",
      "8              1.260140      0.391696  1.710096e+09        280.547251   \n",
      "\n",
      "         energy_100g   fat_100g  saturated-fat_100g  carbohydrates_100g  \\\n",
      "Cluster                                                                   \n",
      "0        1385.362791  22.718346            7.363266           23.581240   \n",
      "1        1574.937430  22.290149            9.272596           32.817633   \n",
      "2        2142.340202  11.605778            2.968498           23.373768   \n",
      "3        1349.965517  21.670207            7.339176           27.017793   \n",
      "4        1100.194681  12.987000            3.793999           23.150982   \n",
      "5        1065.609157  11.775688            3.623157           22.169088   \n",
      "6        1106.356533   9.223737            2.998772           20.906436   \n",
      "7        1067.357105  12.221905            3.437679           21.909610   \n",
      "8        1169.315664  11.872763            3.205394           24.644898   \n",
      "\n",
      "         sugars_100g  fiber_100g  proteins_100g  salt_100g  sodium_100g  \\\n",
      "Cluster                                                                   \n",
      "0          10.489519    8.737364      21.947911   1.621543     0.648547   \n",
      "1          19.997408    4.581818      12.417486   1.507315     0.602945   \n",
      "2           8.350928  127.783279      67.875081   3.293157     1.317219   \n",
      "3          11.149299    7.745805      20.165990   1.793289     0.717164   \n",
      "4           9.884994    9.108681      82.499210   1.391852     0.556678   \n",
      "5           9.581675    6.864350      56.314281   1.127960     0.451169   \n",
      "6          10.920576    8.515162      45.396336   2.661655     1.064624   \n",
      "7           8.437637    9.364650      37.600505   1.155637     0.462228   \n",
      "8          10.628809   10.361217      47.744847   9.127664     3.651051   \n",
      "\n",
      "         fruits-vegetables-nuts-estimate-from-ingredients_100g  \n",
      "Cluster                                                         \n",
      "0                                                 0.515988      \n",
      "1                                                 7.796255      \n",
      "2                                                10.657417      \n",
      "3                                                 5.272247      \n",
      "4                                                 8.593951      \n",
      "5                                                 9.744852      \n",
      "6                                                10.356677      \n",
      "7                                                 5.450530      \n",
      "8                                                 6.500016      \n"
     ]
    }
   ],
   "source": [
    "# Taille des clusters\n",
    "cluster_sizes = df_num['Cluster'].value_counts()\n",
    "print(\"Taille des clusters :\")\n",
    "print(cluster_sizes)\n",
    "\n",
    "# Statistiques descriptives par cluster\n",
    "cluster_stats = df_num.groupby('Cluster').mean()\n",
    "print(\"Statistiques descriptives par cluster :\")\n",
    "print(cluster_stats)\n"
   ]
  }
 ],
 "metadata": {
  "kernelspec": {
   "display_name": "clustering_OFF",
   "language": "python",
   "name": "python3"
  },
  "language_info": {
   "codemirror_mode": {
    "name": "ipython",
    "version": 3
   },
   "file_extension": ".py",
   "mimetype": "text/x-python",
   "name": "python",
   "nbconvert_exporter": "python",
   "pygments_lexer": "ipython3",
   "version": "3.13.1"
  }
 },
 "nbformat": 4,
 "nbformat_minor": 5
}
