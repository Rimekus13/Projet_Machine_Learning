{
 "cells": [
  {
   "cell_type": "markdown",
   "id": "a9deb2b2-23ea-4b51-9d0b-f799c8bc02bd",
   "metadata": {},
   "source": [
    "### Import"
   ]
  },
  {
   "cell_type": "code",
   "execution_count": 104,
   "id": "9c8767b7-6c20-4f45-a3c2-414fe3c8600f",
   "metadata": {},
   "outputs": [
    {
     "name": "stdout",
     "output_type": "stream",
     "text": [
      "The autoreload extension is already loaded. To reload it, use:\n",
      "  %reload_ext autoreload\n"
     ]
    }
   ],
   "source": [
    "%load_ext autoreload\n",
    "%autoreload 2\n",
    "import pandas as pd\n",
    "import seaborn as sns\n",
    "import matplotlib.pyplot as plt\n",
    "import numpy as np\n",
    "from sklearn.impute import KNNImputer\n",
    "\n",
    "import sys\n",
    "sys.path.append('../scripts')\n",
    "\n",
    "from preprocessing import clear_missing_data, delete_columnns_treshold, non_useful_columns, clear_missing_line, get_numerical, get_categorical, removal_of_duplicates\n",
    "from pretraitement import imputation_of_categorical_val, imputation_of_numerical_val"
   ]
  },
  {
   "cell_type": "markdown",
   "id": "5585e3c6",
   "metadata": {},
   "source": [
    "## Collecte de données"
   ]
  },
  {
   "cell_type": "markdown",
   "id": "1739419c-81cb-4a30-bab0-e465766396a7",
   "metadata": {},
   "source": [
    "### Chargement du dataset"
   ]
  },
  {
   "cell_type": "code",
   "execution_count": 105,
   "id": "e6b16d16-f1f9-4cfe-94bf-2d47c17469e5",
   "metadata": {},
   "outputs": [],
   "source": [
    "# Je charge le dataset en ne prenant que les 100 premières lignes afin de tester les fonctions\n",
    "path = \"../data/dataset.csv\" # Chemin du dataset \n",
    "df = pd.read_csv(path, nrows=1000, sep=',',encoding=\"utf-8\")"
   ]
  },
  {
   "cell_type": "code",
   "execution_count": 106,
   "id": "79261eee-e355-4882-b9f7-8527117555c2",
   "metadata": {},
   "outputs": [
    {
     "data": {
      "text/plain": [
       "(1000, 207)"
      ]
     },
     "execution_count": 106,
     "metadata": {},
     "output_type": "execute_result"
    }
   ],
   "source": [
    "df.shape"
   ]
  },
  {
   "cell_type": "markdown",
   "id": "25ad3318",
   "metadata": {},
   "source": [
    "### Préparation des données"
   ]
  },
  {
   "cell_type": "markdown",
   "id": "ab3fb51c",
   "metadata": {},
   "source": [
    "##### Nettoyage des colonnes"
   ]
  },
  {
   "cell_type": "code",
   "execution_count": 107,
   "id": "ea3bff2c",
   "metadata": {},
   "outputs": [
    {
     "name": "stdout",
     "output_type": "stream",
     "text": [
      "Nombre de colonnes vides (100% de valeurs manquantes) : 73\n"
     ]
    }
   ],
   "source": [
    "# Suppressions des colonnes avec 100% données manquantes\n",
    "df = clear_missing_data(df)"
   ]
  },
  {
   "cell_type": "code",
   "execution_count": 108,
   "id": "c62990b3",
   "metadata": {},
   "outputs": [
    {
     "name": "stdout",
     "output_type": "stream",
     "text": [
      "Les colonnes supprimées sont : Index(['starch_100g', 'omega-3-fat_100g',\n",
      "       'fruits-vegetables-nuts-estimate_100g', 'cocoa_100g', 'molybdenum_100g',\n",
      "       'chromium_100g', 'polyunsaturated-fat_100g', 'iodine_100g',\n",
      "       'added-sugars_100g', 'polyols_100g', 'vitamin-k_100g', 'selenium_100g',\n",
      "       'packaging_text', 'monounsaturated-fat_100g', 'caffeine_100g',\n",
      "       'manganese_100g', 'phosphorus_100g', 'biotin_100g',\n",
      "       'pantothenic-acid_100g', 'vitamin-b9_100g', 'copper_100g',\n",
      "       'vitamin-e_100g', 'vitamin-b12_100g', 'vitamin-pp_100g',\n",
      "       'vitamin-b2_100g', 'brand_owner', 'zinc_100g', 'vitamin-b1_100g',\n",
      "       'first_packaging_code_geo', 'cities_tags', 'vitamin-c_100g',\n",
      "       'vitamin-b6_100g', 'vitamin-a_100g', 'vitamin-d_100g', 'magnesium_100g',\n",
      "       'alcohol_100g', 'emb_codes_tags', 'emb_codes', 'generic_name',\n",
      "       'iron_100g', 'trans-fat_100g', 'calcium_100g', 'cholesterol_100g',\n",
      "       'potassium_100g', 'traces', 'traces_tags', 'traces_en', 'allergens',\n",
      "       'manufacturing_places', 'manufacturing_places_tags',\n",
      "       'no_nutrition_data', 'purchase_places', 'origins_en', 'origins_tags',\n",
      "       'origins', 'stores', 'data_quality_errors_tags', 'energy-kj_100g',\n",
      "       'environmental_score_score', 'additives_en', 'additives_tags',\n",
      "       'packaging_tags', 'packaging', 'packaging_en', 'nutriscore_score',\n",
      "       'nutrition-score-fr_100g', 'owner', 'nova_group', 'food_groups_tags',\n",
      "       'food_groups_en', 'food_groups', 'nutrient_levels_tags',\n",
      "       'image_ingredients_url', 'image_ingredients_small_url'],\n",
      "      dtype='object')\n"
     ]
    }
   ],
   "source": [
    "# Suppressions des colonnes avec 70% données manquantes\n",
    "df = delete_columnns_treshold(df)"
   ]
  },
  {
   "cell_type": "code",
   "execution_count": 109,
   "id": "ff720416",
   "metadata": {},
   "outputs": [
    {
     "name": "stdout",
     "output_type": "stream",
     "text": [
      "Les colonnes supprimées sont : ['url', 'created_t', 'created_datetime', 'last_modified_t', 'last_modified_datetime', 'last_modified_by', 'last_updated_t', 'brands_tags', 'last_updated_datetime', 'countries_tags', 'countries_en', 'states_tags', 'states_en', 'image_url', 'image_small_url', 'image_nutrition_url', 'image_nutrition_small_url']\n"
     ]
    }
   ],
   "source": [
    "# Suppressions des colonnes non pertinentes\n",
    "df = non_useful_columns(df)\n",
    "\n"
   ]
  },
  {
   "cell_type": "markdown",
   "id": "762a9c87",
   "metadata": {},
   "source": [
    "##### Nettoyage des lignes"
   ]
  },
  {
   "cell_type": "code",
   "execution_count": 110,
   "id": "f1754171",
   "metadata": {},
   "outputs": [
    {
     "name": "stdout",
     "output_type": "stream",
     "text": [
      "Nombre de lignes vides (100% de valeurs manquantes) : 0\n"
     ]
    }
   ],
   "source": [
    "# Suppressions des lignes vides\n",
    "\n",
    "df = clear_missing_line(df)"
   ]
  },
  {
   "cell_type": "markdown",
   "id": "4f375273",
   "metadata": {},
   "source": [
    "#### Supression des doublons"
   ]
  },
  {
   "cell_type": "code",
   "execution_count": 111,
   "id": "c1d2c60c",
   "metadata": {},
   "outputs": [],
   "source": [
    "# Netoyage des doublons\n",
    "df = removal_of_duplicates(df)"
   ]
  },
  {
   "cell_type": "markdown",
   "id": "285bbadc",
   "metadata": {},
   "source": [
    "### Imputation des données"
   ]
  },
  {
   "cell_type": "code",
   "execution_count": 112,
   "id": "af8afafa",
   "metadata": {},
   "outputs": [],
   "source": [
    "# Récupération des colonnes numériques\n",
    "df_num = df[get_numerical(df)]\n",
    "\n",
    "# Récupération des colonnes catégorielles\n",
    "df_cat = df[get_categorical(df)]\n",
    "\n"
   ]
  },
  {
   "cell_type": "code",
   "execution_count": 113,
   "id": "feebf080",
   "metadata": {},
   "outputs": [],
   "source": [
    "# Imputation des valeurs manquantes pour les colonnes numériques\n",
    "df_num = imputation_of_numerical_val(df_num)"
   ]
  },
  {
   "cell_type": "code",
   "execution_count": 114,
   "id": "67db215d",
   "metadata": {},
   "outputs": [
    {
     "name": "stderr",
     "output_type": "stream",
     "text": [
      "d:\\Projet\\Machine Learning\\Projet groupe\\Projet_Machine_Learning\\src\\notebooks\\../scripts\\pretraitement.py:21: SettingWithCopyWarning: \n",
      "A value is trying to be set on a copy of a slice from a DataFrame.\n",
      "Try using .loc[row_indexer,col_indexer] = value instead\n",
      "\n",
      "See the caveats in the documentation: https://pandas.pydata.org/pandas-docs/stable/user_guide/indexing.html#returning-a-view-versus-a-copy\n",
      "  df_params[categorical_cols] = imputer.fit_transform(df_params[categorical_cols])\n"
     ]
    }
   ],
   "source": [
    "# Imputation des valeurs manquantes pour les colonnes catégorielles\n",
    "df_cat = imputation_of_categorical_val(df_cat)"
   ]
  },
  {
   "cell_type": "code",
   "execution_count": 115,
   "id": "ae34ec49",
   "metadata": {},
   "outputs": [],
   "source": [
    "# Assurer que df_num et df_cat ont les mêmes index que df\n",
    "df[df_num.columns] = df_num\n",
    "df[df_cat.columns] = df_cat\n"
   ]
  },
  {
   "cell_type": "code",
   "execution_count": 116,
   "id": "23bef022",
   "metadata": {},
   "outputs": [
    {
     "data": {
      "text/html": [
       "<div>\n",
       "<style scoped>\n",
       "    .dataframe tbody tr th:only-of-type {\n",
       "        vertical-align: middle;\n",
       "    }\n",
       "\n",
       "    .dataframe tbody tr th {\n",
       "        vertical-align: top;\n",
       "    }\n",
       "\n",
       "    .dataframe thead th {\n",
       "        text-align: right;\n",
       "    }\n",
       "</style>\n",
       "<table border=\"1\" class=\"dataframe\">\n",
       "  <thead>\n",
       "    <tr style=\"text-align: right;\">\n",
       "      <th></th>\n",
       "      <th>Unnamed: 0</th>\n",
       "      <th>code</th>\n",
       "      <th>creator</th>\n",
       "      <th>product_name</th>\n",
       "      <th>quantity</th>\n",
       "      <th>brands</th>\n",
       "      <th>categories</th>\n",
       "      <th>categories_tags</th>\n",
       "      <th>categories_en</th>\n",
       "      <th>labels</th>\n",
       "      <th>...</th>\n",
       "      <th>energy_100g</th>\n",
       "      <th>fat_100g</th>\n",
       "      <th>saturated-fat_100g</th>\n",
       "      <th>carbohydrates_100g</th>\n",
       "      <th>sugars_100g</th>\n",
       "      <th>fiber_100g</th>\n",
       "      <th>proteins_100g</th>\n",
       "      <th>salt_100g</th>\n",
       "      <th>sodium_100g</th>\n",
       "      <th>fruits-vegetables-nuts-estimate-from-ingredients_100g</th>\n",
       "    </tr>\n",
       "  </thead>\n",
       "  <tbody>\n",
       "    <tr>\n",
       "      <th>0</th>\n",
       "      <td>0</td>\n",
       "      <td>54</td>\n",
       "      <td>kiliweb</td>\n",
       "      <td>Limonade artisanale a la rose</td>\n",
       "      <td>700ml</td>\n",
       "      <td>Phillips Gourmet</td>\n",
       "      <td>Beverages</td>\n",
       "      <td>en:beverages-and-beverages-preparations,en:bev...</td>\n",
       "      <td>Beverages and beverages preparations,Beverages</td>\n",
       "      <td>No GMOs, Non GMO project</td>\n",
       "      <td>...</td>\n",
       "      <td>819.4</td>\n",
       "      <td>7.517876</td>\n",
       "      <td>2.578927</td>\n",
       "      <td>12.114000</td>\n",
       "      <td>5.311864</td>\n",
       "      <td>3.013989</td>\n",
       "      <td>26.270000</td>\n",
       "      <td>0.989011</td>\n",
       "      <td>0.395605</td>\n",
       "      <td>19.166958</td>\n",
       "    </tr>\n",
       "    <tr>\n",
       "      <th>1</th>\n",
       "      <td>1</td>\n",
       "      <td>63</td>\n",
       "      <td>kiliweb</td>\n",
       "      <td>Tablette Tanzanie</td>\n",
       "      <td>700ml</td>\n",
       "      <td>Phillips Gourmet</td>\n",
       "      <td>Beverages</td>\n",
       "      <td>en:beverages-and-beverages-preparations,en:bev...</td>\n",
       "      <td>Beverages and beverages preparations,Beverages</td>\n",
       "      <td>No GMOs, Non GMO project</td>\n",
       "      <td>...</td>\n",
       "      <td>819.4</td>\n",
       "      <td>7.517876</td>\n",
       "      <td>2.578927</td>\n",
       "      <td>12.114000</td>\n",
       "      <td>5.311864</td>\n",
       "      <td>3.013989</td>\n",
       "      <td>26.270000</td>\n",
       "      <td>0.780011</td>\n",
       "      <td>0.312005</td>\n",
       "      <td>0.000000</td>\n",
       "    </tr>\n",
       "    <tr>\n",
       "      <th>2</th>\n",
       "      <td>2</td>\n",
       "      <td>114</td>\n",
       "      <td>kiliweb</td>\n",
       "      <td>Chocolate n 3</td>\n",
       "      <td>80 g</td>\n",
       "      <td>Jeff de Bruges</td>\n",
       "      <td>Beverages</td>\n",
       "      <td>en:beverages-and-beverages-preparations,en:bev...</td>\n",
       "      <td>Beverages and beverages preparations,Beverages</td>\n",
       "      <td>Point Vert, Fabriqué en France</td>\n",
       "      <td>...</td>\n",
       "      <td>2415.0</td>\n",
       "      <td>44.000000</td>\n",
       "      <td>28.000000</td>\n",
       "      <td>30.000000</td>\n",
       "      <td>27.000000</td>\n",
       "      <td>8.572500</td>\n",
       "      <td>7.100000</td>\n",
       "      <td>0.025000</td>\n",
       "      <td>0.010000</td>\n",
       "      <td>19.166667</td>\n",
       "    </tr>\n",
       "    <tr>\n",
       "      <th>3</th>\n",
       "      <td>3</td>\n",
       "      <td>1</td>\n",
       "      <td>inf</td>\n",
       "      <td>KOJI MISO PASTE</td>\n",
       "      <td>300g</td>\n",
       "      <td>UMAMI</td>\n",
       "      <td>Supplements, Vegtable</td>\n",
       "      <td>en:supplements,en:vegtable</td>\n",
       "      <td>Supplements,Vegtable</td>\n",
       "      <td>No gluten, Vegetarian, No artificial flavors, ...</td>\n",
       "      <td>...</td>\n",
       "      <td>874.0</td>\n",
       "      <td>6.000000</td>\n",
       "      <td>1.000000</td>\n",
       "      <td>21.400000</td>\n",
       "      <td>11.100000</td>\n",
       "      <td>2.000000</td>\n",
       "      <td>11.200000</td>\n",
       "      <td>11.800000</td>\n",
       "      <td>4.720000</td>\n",
       "      <td>100.000000</td>\n",
       "    </tr>\n",
       "    <tr>\n",
       "      <th>4</th>\n",
       "      <td>4</td>\n",
       "      <td>105</td>\n",
       "      <td>kiliweb</td>\n",
       "      <td>Paleta gran reserva - Sierra nevada-</td>\n",
       "      <td>750ml</td>\n",
       "      <td>AdvoCare</td>\n",
       "      <td>Beverages</td>\n",
       "      <td>en:beverages-and-beverages-preparations,en:bev...</td>\n",
       "      <td>Beverages and beverages preparations,Beverages</td>\n",
       "      <td>No GMOs, Non GMO project</td>\n",
       "      <td>...</td>\n",
       "      <td>913.4</td>\n",
       "      <td>7.897876</td>\n",
       "      <td>2.468927</td>\n",
       "      <td>10.215853</td>\n",
       "      <td>2.831864</td>\n",
       "      <td>3.313989</td>\n",
       "      <td>34.686904</td>\n",
       "      <td>1.063011</td>\n",
       "      <td>0.425205</td>\n",
       "      <td>0.011335</td>\n",
       "    </tr>\n",
       "    <tr>\n",
       "      <th>...</th>\n",
       "      <td>...</td>\n",
       "      <td>...</td>\n",
       "      <td>...</td>\n",
       "      <td>...</td>\n",
       "      <td>...</td>\n",
       "      <td>...</td>\n",
       "      <td>...</td>\n",
       "      <td>...</td>\n",
       "      <td>...</td>\n",
       "      <td>...</td>\n",
       "      <td>...</td>\n",
       "      <td>...</td>\n",
       "      <td>...</td>\n",
       "      <td>...</td>\n",
       "      <td>...</td>\n",
       "      <td>...</td>\n",
       "      <td>...</td>\n",
       "      <td>...</td>\n",
       "      <td>...</td>\n",
       "      <td>...</td>\n",
       "      <td>...</td>\n",
       "    </tr>\n",
       "    <tr>\n",
       "      <th>995</th>\n",
       "      <td>995</td>\n",
       "      <td>105000066</td>\n",
       "      <td>kiliweb</td>\n",
       "      <td>Herbal Tea Cinnamon</td>\n",
       "      <td>700ml</td>\n",
       "      <td>Phillips Gourmet</td>\n",
       "      <td>Plant-based foods and beverages, Beverages, Ho...</td>\n",
       "      <td>en:plant-based-foods-and-beverages,en:beverage...</td>\n",
       "      <td>Plant-based foods and beverages,Beverages,Hot ...</td>\n",
       "      <td>No GMOs, Non GMO project</td>\n",
       "      <td>...</td>\n",
       "      <td>0.0</td>\n",
       "      <td>0.000000</td>\n",
       "      <td>0.000000</td>\n",
       "      <td>60.000000</td>\n",
       "      <td>0.000000</td>\n",
       "      <td>0.000000</td>\n",
       "      <td>0.000000</td>\n",
       "      <td>1.000000</td>\n",
       "      <td>0.400000</td>\n",
       "      <td>0.000000</td>\n",
       "    </tr>\n",
       "    <tr>\n",
       "      <th>996</th>\n",
       "      <td>996</td>\n",
       "      <td>105000073</td>\n",
       "      <td>usda-ndb-import</td>\n",
       "      <td>Herbal Tea, Hibiscus</td>\n",
       "      <td>700ml</td>\n",
       "      <td>Lagg's</td>\n",
       "      <td>Beverages</td>\n",
       "      <td>en:beverages-and-beverages-preparations,en:bev...</td>\n",
       "      <td>Beverages and beverages preparations,Beverages</td>\n",
       "      <td>No GMOs, Non GMO project</td>\n",
       "      <td>...</td>\n",
       "      <td>1117.0</td>\n",
       "      <td>0.000000</td>\n",
       "      <td>2.918000</td>\n",
       "      <td>60.000000</td>\n",
       "      <td>4.066667</td>\n",
       "      <td>5.573333</td>\n",
       "      <td>66.670000</td>\n",
       "      <td>0.337820</td>\n",
       "      <td>0.135128</td>\n",
       "      <td>0.000000</td>\n",
       "    </tr>\n",
       "    <tr>\n",
       "      <th>997</th>\n",
       "      <td>997</td>\n",
       "      <td>105000196</td>\n",
       "      <td>usda-ndb-import</td>\n",
       "      <td>Apple &amp; Cinnamon Tea</td>\n",
       "      <td>700ml</td>\n",
       "      <td>Lagg's</td>\n",
       "      <td>Plant-based foods and beverages, Beverages, Ho...</td>\n",
       "      <td>en:plant-based-foods-and-beverages,en:beverage...</td>\n",
       "      <td>Plant-based foods and beverages,Beverages,Hot ...</td>\n",
       "      <td>No GMOs, Non GMO project</td>\n",
       "      <td>...</td>\n",
       "      <td>0.0</td>\n",
       "      <td>0.000000</td>\n",
       "      <td>2.918000</td>\n",
       "      <td>60.000000</td>\n",
       "      <td>4.066667</td>\n",
       "      <td>5.573333</td>\n",
       "      <td>66.670000</td>\n",
       "      <td>0.337820</td>\n",
       "      <td>0.135128</td>\n",
       "      <td>0.000000</td>\n",
       "    </tr>\n",
       "    <tr>\n",
       "      <th>998</th>\n",
       "      <td>998</td>\n",
       "      <td>105000219</td>\n",
       "      <td>usda-ndb-import</td>\n",
       "      <td>Lagg's, green tea</td>\n",
       "      <td>700ml</td>\n",
       "      <td>Lagg's</td>\n",
       "      <td>Plant-based foods and beverages, Beverages, Ho...</td>\n",
       "      <td>en:plant-based-foods-and-beverages,en:beverage...</td>\n",
       "      <td>Plant-based foods and beverages,Beverages,Hot ...</td>\n",
       "      <td>No GMOs, Non GMO project</td>\n",
       "      <td>...</td>\n",
       "      <td>0.0</td>\n",
       "      <td>0.000000</td>\n",
       "      <td>2.918000</td>\n",
       "      <td>2.670000</td>\n",
       "      <td>4.066667</td>\n",
       "      <td>5.573333</td>\n",
       "      <td>0.000000</td>\n",
       "      <td>0.000000</td>\n",
       "      <td>0.000000</td>\n",
       "      <td>0.000000</td>\n",
       "    </tr>\n",
       "    <tr>\n",
       "      <th>999</th>\n",
       "      <td>999</td>\n",
       "      <td>105000318</td>\n",
       "      <td>usda-ndb-import</td>\n",
       "      <td>Lagg's, shave grass herbal tea</td>\n",
       "      <td>700ml</td>\n",
       "      <td>Lagg's</td>\n",
       "      <td>Plant-based foods and beverages, Beverages, Ho...</td>\n",
       "      <td>en:plant-based-foods-and-beverages,en:beverage...</td>\n",
       "      <td>Plant-based foods and beverages,Beverages,Hot ...</td>\n",
       "      <td>No GMOs, Non GMO project</td>\n",
       "      <td>...</td>\n",
       "      <td>0.0</td>\n",
       "      <td>0.000000</td>\n",
       "      <td>2.918000</td>\n",
       "      <td>3.330000</td>\n",
       "      <td>4.066667</td>\n",
       "      <td>5.573333</td>\n",
       "      <td>0.000000</td>\n",
       "      <td>0.000000</td>\n",
       "      <td>0.000000</td>\n",
       "      <td>0.000000</td>\n",
       "    </tr>\n",
       "  </tbody>\n",
       "</table>\n",
       "<p>1000 rows × 43 columns</p>\n",
       "</div>"
      ],
      "text/plain": [
       "     Unnamed: 0       code          creator  \\\n",
       "0             0         54          kiliweb   \n",
       "1             1         63          kiliweb   \n",
       "2             2        114          kiliweb   \n",
       "3             3          1              inf   \n",
       "4             4        105          kiliweb   \n",
       "..          ...        ...              ...   \n",
       "995         995  105000066          kiliweb   \n",
       "996         996  105000073  usda-ndb-import   \n",
       "997         997  105000196  usda-ndb-import   \n",
       "998         998  105000219  usda-ndb-import   \n",
       "999         999  105000318  usda-ndb-import   \n",
       "\n",
       "                             product_name quantity            brands  \\\n",
       "0           Limonade artisanale a la rose    700ml  Phillips Gourmet   \n",
       "1                       Tablette Tanzanie    700ml  Phillips Gourmet   \n",
       "2                           Chocolate n 3     80 g    Jeff de Bruges   \n",
       "3                         KOJI MISO PASTE     300g             UMAMI   \n",
       "4    Paleta gran reserva - Sierra nevada-    750ml          AdvoCare   \n",
       "..                                    ...      ...               ...   \n",
       "995                   Herbal Tea Cinnamon    700ml  Phillips Gourmet   \n",
       "996                  Herbal Tea, Hibiscus    700ml            Lagg's   \n",
       "997                  Apple & Cinnamon Tea    700ml            Lagg's   \n",
       "998                     Lagg's, green tea    700ml            Lagg's   \n",
       "999        Lagg's, shave grass herbal tea    700ml            Lagg's   \n",
       "\n",
       "                                            categories  \\\n",
       "0                                            Beverages   \n",
       "1                                            Beverages   \n",
       "2                                            Beverages   \n",
       "3                                Supplements, Vegtable   \n",
       "4                                            Beverages   \n",
       "..                                                 ...   \n",
       "995  Plant-based foods and beverages, Beverages, Ho...   \n",
       "996                                          Beverages   \n",
       "997  Plant-based foods and beverages, Beverages, Ho...   \n",
       "998  Plant-based foods and beverages, Beverages, Ho...   \n",
       "999  Plant-based foods and beverages, Beverages, Ho...   \n",
       "\n",
       "                                       categories_tags  \\\n",
       "0    en:beverages-and-beverages-preparations,en:bev...   \n",
       "1    en:beverages-and-beverages-preparations,en:bev...   \n",
       "2    en:beverages-and-beverages-preparations,en:bev...   \n",
       "3                           en:supplements,en:vegtable   \n",
       "4    en:beverages-and-beverages-preparations,en:bev...   \n",
       "..                                                 ...   \n",
       "995  en:plant-based-foods-and-beverages,en:beverage...   \n",
       "996  en:beverages-and-beverages-preparations,en:bev...   \n",
       "997  en:plant-based-foods-and-beverages,en:beverage...   \n",
       "998  en:plant-based-foods-and-beverages,en:beverage...   \n",
       "999  en:plant-based-foods-and-beverages,en:beverage...   \n",
       "\n",
       "                                         categories_en  \\\n",
       "0       Beverages and beverages preparations,Beverages   \n",
       "1       Beverages and beverages preparations,Beverages   \n",
       "2       Beverages and beverages preparations,Beverages   \n",
       "3                                 Supplements,Vegtable   \n",
       "4       Beverages and beverages preparations,Beverages   \n",
       "..                                                 ...   \n",
       "995  Plant-based foods and beverages,Beverages,Hot ...   \n",
       "996     Beverages and beverages preparations,Beverages   \n",
       "997  Plant-based foods and beverages,Beverages,Hot ...   \n",
       "998  Plant-based foods and beverages,Beverages,Hot ...   \n",
       "999  Plant-based foods and beverages,Beverages,Hot ...   \n",
       "\n",
       "                                                labels  ... energy_100g  \\\n",
       "0                             No GMOs, Non GMO project  ...       819.4   \n",
       "1                             No GMOs, Non GMO project  ...       819.4   \n",
       "2                       Point Vert, Fabriqué en France  ...      2415.0   \n",
       "3    No gluten, Vegetarian, No artificial flavors, ...  ...       874.0   \n",
       "4                             No GMOs, Non GMO project  ...       913.4   \n",
       "..                                                 ...  ...         ...   \n",
       "995                           No GMOs, Non GMO project  ...         0.0   \n",
       "996                           No GMOs, Non GMO project  ...      1117.0   \n",
       "997                           No GMOs, Non GMO project  ...         0.0   \n",
       "998                           No GMOs, Non GMO project  ...         0.0   \n",
       "999                           No GMOs, Non GMO project  ...         0.0   \n",
       "\n",
       "      fat_100g saturated-fat_100g carbohydrates_100g sugars_100g fiber_100g  \\\n",
       "0     7.517876           2.578927          12.114000    5.311864   3.013989   \n",
       "1     7.517876           2.578927          12.114000    5.311864   3.013989   \n",
       "2    44.000000          28.000000          30.000000   27.000000   8.572500   \n",
       "3     6.000000           1.000000          21.400000   11.100000   2.000000   \n",
       "4     7.897876           2.468927          10.215853    2.831864   3.313989   \n",
       "..         ...                ...                ...         ...        ...   \n",
       "995   0.000000           0.000000          60.000000    0.000000   0.000000   \n",
       "996   0.000000           2.918000          60.000000    4.066667   5.573333   \n",
       "997   0.000000           2.918000          60.000000    4.066667   5.573333   \n",
       "998   0.000000           2.918000           2.670000    4.066667   5.573333   \n",
       "999   0.000000           2.918000           3.330000    4.066667   5.573333   \n",
       "\n",
       "    proteins_100g  salt_100g  sodium_100g  \\\n",
       "0       26.270000   0.989011     0.395605   \n",
       "1       26.270000   0.780011     0.312005   \n",
       "2        7.100000   0.025000     0.010000   \n",
       "3       11.200000  11.800000     4.720000   \n",
       "4       34.686904   1.063011     0.425205   \n",
       "..            ...        ...          ...   \n",
       "995      0.000000   1.000000     0.400000   \n",
       "996     66.670000   0.337820     0.135128   \n",
       "997     66.670000   0.337820     0.135128   \n",
       "998      0.000000   0.000000     0.000000   \n",
       "999      0.000000   0.000000     0.000000   \n",
       "\n",
       "    fruits-vegetables-nuts-estimate-from-ingredients_100g  \n",
       "0                                            19.166958     \n",
       "1                                             0.000000     \n",
       "2                                            19.166667     \n",
       "3                                           100.000000     \n",
       "4                                             0.011335     \n",
       "..                                                 ...     \n",
       "995                                           0.000000     \n",
       "996                                           0.000000     \n",
       "997                                           0.000000     \n",
       "998                                           0.000000     \n",
       "999                                           0.000000     \n",
       "\n",
       "[1000 rows x 43 columns]"
      ]
     },
     "execution_count": 116,
     "metadata": {},
     "output_type": "execute_result"
    }
   ],
   "source": [
    "df"
   ]
  },
  {
   "cell_type": "markdown",
   "id": "a209fe2c",
   "metadata": {},
   "source": [
    "### Entrainement "
   ]
  },
  {
   "cell_type": "code",
   "execution_count": null,
   "id": "dda4d62b",
   "metadata": {},
   "outputs": [],
   "source": [
    "#test"
   ]
  }
 ],
 "metadata": {
  "kernelspec": {
   "display_name": "clustering_OFF",
   "language": "python",
   "name": "python3"
  },
  "language_info": {
   "codemirror_mode": {
    "name": "ipython",
    "version": 3
   },
   "file_extension": ".py",
   "mimetype": "text/x-python",
   "name": "python",
   "nbconvert_exporter": "python",
   "pygments_lexer": "ipython3",
   "version": "3.13.1"
  }
 },
 "nbformat": 4,
 "nbformat_minor": 5
}
