{
 "cells": [
  {
   "cell_type": "markdown",
   "id": "a9deb2b2-23ea-4b51-9d0b-f799c8bc02bd",
   "metadata": {},
   "source": [
    "### Import"
   ]
  },
  {
   "cell_type": "code",
   "execution_count": 136,
   "id": "9c8767b7-6c20-4f45-a3c2-414fe3c8600f",
   "metadata": {},
   "outputs": [
    {
     "name": "stdout",
     "output_type": "stream",
     "text": [
      "The autoreload extension is already loaded. To reload it, use:\n",
      "  %reload_ext autoreload\n"
     ]
    }
   ],
   "source": [
    "%load_ext autoreload\n",
    "%autoreload 2\n",
    "import pandas as pd\n",
    "import seaborn as sns\n",
    "import matplotlib.pyplot as plt\n",
    "import numpy as np\n",
    "from sklearn.impute import KNNImputer\n",
    "\n",
    "import sys\n",
    "sys.path.append('../scripts')\n",
    "\n",
    "from preprocessing import clear_missing_data, visualize, delete_columnns_treshold, non_useful_columns"
   ]
  },
  {
   "cell_type": "markdown",
   "id": "5585e3c6",
   "metadata": {},
   "source": [
    "## Collecte de données"
   ]
  },
  {
   "cell_type": "markdown",
   "id": "1739419c-81cb-4a30-bab0-e465766396a7",
   "metadata": {},
   "source": [
    "### Chargement du dataset"
   ]
  },
  {
   "cell_type": "code",
   "execution_count": 137,
   "id": "e6b16d16-f1f9-4cfe-94bf-2d47c17469e5",
   "metadata": {},
   "outputs": [],
   "source": [
    "# Je charge le dataset en ne prenant que les 100 premières lignes afin de tester les fonctions\n",
    "path = \"../data/dataset.csv\" # Chemin du dataset \n",
    "df = pd.read_csv(path, nrows=1000, sep=',',encoding=\"utf-8\")"
   ]
  },
  {
   "cell_type": "code",
   "execution_count": 138,
   "id": "79261eee-e355-4882-b9f7-8527117555c2",
   "metadata": {},
   "outputs": [
    {
     "data": {
      "text/plain": [
       "(1000, 207)"
      ]
     },
     "execution_count": 138,
     "metadata": {},
     "output_type": "execute_result"
    }
   ],
   "source": [
    "df.shape"
   ]
  },
  {
   "cell_type": "markdown",
   "id": "25ad3318",
   "metadata": {},
   "source": [
    "### Netoyage des données"
   ]
  },
  {
   "cell_type": "code",
   "execution_count": 139,
   "id": "ea3bff2c",
   "metadata": {},
   "outputs": [
    {
     "name": "stdout",
     "output_type": "stream",
     "text": [
      "Nombre de colonnes vides (100% de valeurs manquantes) : 73\n"
     ]
    }
   ],
   "source": [
    "# Suppressions des colonnes avec 100% données manquantes\n",
    "df = clear_missing_data(df)"
   ]
  },
  {
   "cell_type": "code",
   "execution_count": null,
   "id": "c62990b3",
   "metadata": {},
   "outputs": [
    {
     "name": "stdout",
     "output_type": "stream",
     "text": [
      "Les colonnes supprimées sont : Index([], dtype='object')\n"
     ]
    }
   ],
   "source": [
    "# Suppressions des colonnes avec 70% données manquantes\n",
    "df = delete_columnns_treshold(df)"
   ]
  },
  {
   "cell_type": "code",
   "execution_count": null,
   "id": "d245a634",
   "metadata": {},
   "outputs": [],
   "source": []
  },
  {
   "cell_type": "code",
   "execution_count": 141,
   "id": "ff720416",
   "metadata": {},
   "outputs": [
    {
     "name": "stdout",
     "output_type": "stream",
     "text": [
      "Les colonnes supprimées sont : ['url', 'created_t', 'created_datetime', 'last_modified_t', 'last_modified_datetime', 'last_modified_by', 'last_updated_t', 'brands_tags', 'last_updated_datetime', 'countries_tags', 'countries_en', 'states_tags', 'states_en', 'image_url', 'image_small_url', 'image_nutrition_url', 'image_nutrition_small_url']\n"
     ]
    }
   ],
   "source": [
    "df = non_useful_columns(df)"
   ]
  },
  {
   "cell_type": "code",
   "execution_count": null,
   "id": "b830b7a2",
   "metadata": {},
   "outputs": [],
   "source": [
    "\n"
   ]
  },
  {
   "cell_type": "code",
   "execution_count": null,
   "id": "ef278b75",
   "metadata": {},
   "outputs": [],
   "source": []
  },
  {
   "cell_type": "code",
   "execution_count": null,
   "id": "7c64aa72",
   "metadata": {},
   "outputs": [],
   "source": []
  },
  {
   "cell_type": "code",
   "execution_count": null,
   "id": "f1754171",
   "metadata": {},
   "outputs": [],
   "source": []
  },
  {
   "cell_type": "code",
   "execution_count": null,
   "id": "af8afafa",
   "metadata": {},
   "outputs": [],
   "source": []
  }
 ],
 "metadata": {
  "kernelspec": {
   "display_name": "clustering_OFF",
   "language": "python",
   "name": "python3"
  },
  "language_info": {
   "codemirror_mode": {
    "name": "ipython",
    "version": 3
   },
   "file_extension": ".py",
   "mimetype": "text/x-python",
   "name": "python",
   "nbconvert_exporter": "python",
   "pygments_lexer": "ipython3",
   "version": "3.13.1"
  }
 },
 "nbformat": 4,
 "nbformat_minor": 5
}
